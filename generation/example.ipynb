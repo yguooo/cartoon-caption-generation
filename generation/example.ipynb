{
 "cells": [
  {
   "cell_type": "code",
   "execution_count": 1,
   "id": "27c41d55",
   "metadata": {},
   "outputs": [],
   "source": [
    "import caption_gen\n",
    "import description_gen\n",
    "import pandas as pd"
   ]
  },
  {
   "cell_type": "code",
   "execution_count": 2,
   "id": "49f8b13f",
   "metadata": {},
   "outputs": [],
   "source": [
    "captions = caption_gen.gen_cap(gpt_key = 'Your OpenAI API Key', claude_key = 'Your Claude API Key', data_h = 'full_hessle.csv', data_g = 'hessle_530-889.csv')"
   ]
  },
  {
   "cell_type": "code",
   "execution_count": 3,
   "id": "2d1d6648",
   "metadata": {},
   "outputs": [
    {
     "data": {
      "text/plain": [
       "{543: [\"I guess we should address the elephant in the living room, but I'm not ready for that kind of commitment.\",\n",
       "  'I thought the elephant was part of the décor, so I just went with it.',\n",
       "  \"Let's just pretend the elephant is invisible. That way, it won't bother us.\",\n",
       "  \"I didn't want to acknowledge the elephant because then we'd have to discuss the hippo in the kitchen.\",\n",
       "  \"I'm too invested in my book to deal with literal elephants in the room right now.\",\n",
       "  'I told you we should have registered for a pet elephant, but no, you wanted a goldfish.',\n",
       "  'I thought bringing up the elephant would be too on the nose, so I opted for deliberate ignorance instead.',\n",
       "  \"I thought your definition of 'spacious living room' was a little too literal.\",\n",
       "  'I signed up for surprise parties, not surprise elephants.',\n",
       "  '\"I thought it was an elephant-themed party, so I dressed accordingly. Turns out, I misread the invitation.']}"
      ]
     },
     "execution_count": 3,
     "metadata": {},
     "output_type": "execute_result"
    }
   ],
   "source": [
    "captions.gpt_35_turbo(contest_number = [543])"
   ]
  },
  {
   "cell_type": "code",
   "execution_count": 4,
   "id": "870fd31e",
   "metadata": {},
   "outputs": [
    {
     "data": {
      "text/plain": [
       "{543: ['Honey, did you forget to cancel the safari-themed house tour?',\n",
       "  \"If we ignore it long enough, maybe it'll clean up after itself.\",\n",
       "  'Did you feed the cat, by the way?',\n",
       "  \"I know what you're thinking, but it's not a new piece of furniture.\",\n",
       "  'Well, at least it’s stopped borrowing our peanuts.',\n",
       "  'I swear, another one snuck in when you left the door open.',\n",
       "  'Finally, an excuse to try that new elephant repellent.',\n",
       "  'It’s your turn to take out the trash tonight. Just saying.',\n",
       "  'The Joneses got a flat screen; we got an elephant.',\n",
       "  '\"I told you we should have gone with giraffes—they blend better.']}"
      ]
     },
     "execution_count": 4,
     "metadata": {},
     "output_type": "execute_result"
    }
   ],
   "source": [
    "captions.gpt_4o(contest_number = [543])"
   ]
  },
  {
   "cell_type": "code",
   "execution_count": 5,
   "id": "f8386181",
   "metadata": {},
   "outputs": [
    {
     "data": {
      "text/plain": [
       "{543: ['I told you we needed to discuss our big pachyderm problem.',\n",
       "  'Maybe next time we should try smaller pets.',\n",
       "  \"Our 'no talking about work' policy is really paying off.\",\n",
       "  'So, how long have you had trouble seeing the obvious?',\n",
       "  'It’s your turn to tell him to move.',\n",
       "  'I thought you said it was just a phase he was going through.',\n",
       "  'Let’s just address the elephant in the room—do you like the new couch?',\n",
       "  \"I don't think it's the best time to bring up my peanut allergy.\",\n",
       "  'Did you notice Gary from next door has finally taken up yoga?',\n",
       "  '\"Well, at least he’s not breaking things anymore.']}"
      ]
     },
     "execution_count": 5,
     "metadata": {},
     "output_type": "execute_result"
    }
   ],
   "source": [
    "captions.gpt_4o_vision(contest_number = [543])"
   ]
  },
  {
   "cell_type": "code",
   "execution_count": 6,
   "id": "3f78581a",
   "metadata": {
    "scrolled": true
   },
   "outputs": [
    {
     "data": {
      "text/plain": [
       "{543: [\"I think it's time we addressed the elephant in the room... the fact that there's an elephant in the room.\",\n",
       "  'Honey, I thought we agreed no more impulse pet purchases.',\n",
       "  \"I told you those peanuts weren't going to distract him for long.\",\n",
       "  'Is it just me or does the feng shui feel a bit off today?',\n",
       "  \"I guess we should have specified 'no plus ones' on the invitation.\",\n",
       "  \"I don't remember 'adopt an elephant' being on our bucket list.\",\n",
       "  \"This is why we can't have nice things.\",\n",
       "  'Next time, can we just get a fish tank?',\n",
       "  \"I'm starting to think 'free to a good home' was too good to be true.\",\n",
       "  '\"Well, there goes the neighborhood.']}"
      ]
     },
     "execution_count": 6,
     "metadata": {},
     "output_type": "execute_result"
    }
   ],
   "source": [
    "captions.claude_vision([543])"
   ]
  },
  {
   "cell_type": "code",
   "execution_count": 7,
   "id": "d40f98bb",
   "metadata": {},
   "outputs": [],
   "source": [
    "description =  description_gen.gen_des(gpt_key = 'Your OpenAI API Key', data_h = 'full_hessle.csv', data_g = 'hessle_530-889.csv')"
   ]
  },
  {
   "cell_type": "code",
   "execution_count": 8,
   "id": "19baa1a8",
   "metadata": {},
   "outputs": [
    {
     "data": {
      "text/html": [
       "<div>\n",
       "<style scoped>\n",
       "    .dataframe tbody tr th:only-of-type {\n",
       "        vertical-align: middle;\n",
       "    }\n",
       "\n",
       "    .dataframe tbody tr th {\n",
       "        vertical-align: top;\n",
       "    }\n",
       "\n",
       "    .dataframe thead th {\n",
       "        text-align: right;\n",
       "    }\n",
       "</style>\n",
       "<table border=\"1\" class=\"dataframe\">\n",
       "  <thead>\n",
       "    <tr style=\"text-align: right;\">\n",
       "      <th></th>\n",
       "      <th>cnum</th>\n",
       "      <th>canny</th>\n",
       "      <th>uncanny</th>\n",
       "      <th>location</th>\n",
       "      <th>entities</th>\n",
       "    </tr>\n",
       "  </thead>\n",
       "  <tbody>\n",
       "    <tr>\n",
       "      <th>0</th>\n",
       "      <td>543</td>\n",
       "      <td>A large elephant is standing in the middle of ...</td>\n",
       "      <td>There is an enormous elephant inside a living...</td>\n",
       "      <td>the living room</td>\n",
       "      <td>[ Elephant,  Man,  Woman,  Newspaper,  Lamp,  ...</td>\n",
       "    </tr>\n",
       "  </tbody>\n",
       "</table>\n",
       "</div>"
      ],
      "text/plain": [
       "   cnum                                              canny  \\\n",
       "0   543  A large elephant is standing in the middle of ...   \n",
       "\n",
       "                                             uncanny         location  \\\n",
       "0   There is an enormous elephant inside a living...  the living room   \n",
       "\n",
       "                                            entities  \n",
       "0  [ Elephant,  Man,  Woman,  Newspaper,  Lamp,  ...  "
      ]
     },
     "execution_count": 8,
     "metadata": {},
     "output_type": "execute_result"
    }
   ],
   "source": [
    "description.description_gpt4_o(contest_number = [543])"
   ]
  },
  {
   "cell_type": "code",
   "execution_count": null,
   "id": "e194c225",
   "metadata": {},
   "outputs": [],
   "source": []
  }
 ],
 "metadata": {
  "kernelspec": {
   "display_name": "Python 3",
   "language": "python",
   "name": "python3"
  },
  "language_info": {
   "codemirror_mode": {
    "name": "ipython",
    "version": 3
   },
   "file_extension": ".py",
   "mimetype": "text/x-python",
   "name": "python",
   "nbconvert_exporter": "python",
   "pygments_lexer": "ipython3",
   "version": "3.8.8"
  }
 },
 "nbformat": 4,
 "nbformat_minor": 5
}
